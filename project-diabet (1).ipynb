{
 "cells": [
  {
   "cell_type": "code",
   "execution_count": 2,
   "metadata": {
    "execution": {
     "iopub.execute_input": "2024-02-04T08:51:54.847222Z",
     "iopub.status.busy": "2024-02-04T08:51:54.846790Z",
     "iopub.status.idle": "2024-02-04T08:51:54.855176Z",
     "shell.execute_reply": "2024-02-04T08:51:54.853885Z",
     "shell.execute_reply.started": "2024-02-04T08:51:54.847188Z"
    }
   },
   "outputs": [],
   "source": [
    "#importing necessary libraries\n",
    "import pandas as pd\n",
    "import numpy as np\n",
    "import matplotlib.pyplot as plt\n",
    "import seaborn as sns\n",
    "from sklearn.preprocessing import MinMaxScaler\n",
    "from sklearn.model_selection import train_test_split\n",
    "from sklearn.metrics import accuracy_score, precision_score, confusion_matrix, classification_report\n",
    "from sklearn.linear_model import LogisticRegression\n",
    "from sklearn.tree import DecisionTreeClassifier\n",
    "from sklearn.ensemble import RandomForestClassifier, VotingClassifier\n",
    "from sklearn.svm import SVC"
   ]
  },
  {
   "cell_type": "markdown",
   "metadata": {},
   "source": [
    "# Preprocessing"
   ]
  },
  {
   "cell_type": "code",
   "execution_count": 3,
   "metadata": {
    "execution": {
     "iopub.execute_input": "2024-02-04T08:53:13.772634Z",
     "iopub.status.busy": "2024-02-04T08:53:13.772228Z",
     "iopub.status.idle": "2024-02-04T08:53:13.951361Z",
     "shell.execute_reply": "2024-02-04T08:53:13.950379Z",
     "shell.execute_reply.started": "2024-02-04T08:53:13.772603Z"
    }
   },
   "outputs": [],
   "source": [
    "#the file path for our dataset\n",
    "file_path = '/kaggle/input/diabetes-prediction-dataset/diabetes_prediction_dataset.csv'\n",
    "\n",
    "#reading dataset using pandas\n",
    "data = pd.read_csv(file_path)"
   ]
  },
  {
   "cell_type": "code",
   "execution_count": 4,
   "metadata": {
    "execution": {
     "iopub.execute_input": "2024-02-04T08:53:17.247123Z",
     "iopub.status.busy": "2024-02-04T08:53:17.246675Z",
     "iopub.status.idle": "2024-02-04T08:53:17.253151Z",
     "shell.execute_reply": "2024-02-04T08:53:17.251999Z",
     "shell.execute_reply.started": "2024-02-04T08:53:17.247087Z"
    }
   },
   "outputs": [],
   "source": [
    "#assigning the first 5000 rows to 'data'\n",
    "data = data.head(5000)"
   ]
  },
  {
   "cell_type": "code",
   "execution_count": 5,
   "metadata": {
    "execution": {
     "iopub.execute_input": "2024-02-04T08:53:46.877027Z",
     "iopub.status.busy": "2024-02-04T08:53:46.876628Z",
     "iopub.status.idle": "2024-02-04T08:53:46.901105Z",
     "shell.execute_reply": "2024-02-04T08:53:46.900025Z",
     "shell.execute_reply.started": "2024-02-04T08:53:46.876998Z"
    }
   },
   "outputs": [
    {
     "data": {
      "text/html": [
       "<div>\n",
       "<style scoped>\n",
       "    .dataframe tbody tr th:only-of-type {\n",
       "        vertical-align: middle;\n",
       "    }\n",
       "\n",
       "    .dataframe tbody tr th {\n",
       "        vertical-align: top;\n",
       "    }\n",
       "\n",
       "    .dataframe thead th {\n",
       "        text-align: right;\n",
       "    }\n",
       "</style>\n",
       "<table border=\"1\" class=\"dataframe\">\n",
       "  <thead>\n",
       "    <tr style=\"text-align: right;\">\n",
       "      <th></th>\n",
       "      <th>gender</th>\n",
       "      <th>age</th>\n",
       "      <th>hypertension</th>\n",
       "      <th>heart_disease</th>\n",
       "      <th>smoking_history</th>\n",
       "      <th>bmi</th>\n",
       "      <th>HbA1c_level</th>\n",
       "      <th>blood_glucose_level</th>\n",
       "      <th>diabetes</th>\n",
       "    </tr>\n",
       "  </thead>\n",
       "  <tbody>\n",
       "    <tr>\n",
       "      <th>0</th>\n",
       "      <td>Female</td>\n",
       "      <td>80.0</td>\n",
       "      <td>0</td>\n",
       "      <td>1</td>\n",
       "      <td>never</td>\n",
       "      <td>25.19</td>\n",
       "      <td>6.6</td>\n",
       "      <td>140</td>\n",
       "      <td>0</td>\n",
       "    </tr>\n",
       "    <tr>\n",
       "      <th>1</th>\n",
       "      <td>Female</td>\n",
       "      <td>54.0</td>\n",
       "      <td>0</td>\n",
       "      <td>0</td>\n",
       "      <td>No Info</td>\n",
       "      <td>27.32</td>\n",
       "      <td>6.6</td>\n",
       "      <td>80</td>\n",
       "      <td>0</td>\n",
       "    </tr>\n",
       "    <tr>\n",
       "      <th>2</th>\n",
       "      <td>Male</td>\n",
       "      <td>28.0</td>\n",
       "      <td>0</td>\n",
       "      <td>0</td>\n",
       "      <td>never</td>\n",
       "      <td>27.32</td>\n",
       "      <td>5.7</td>\n",
       "      <td>158</td>\n",
       "      <td>0</td>\n",
       "    </tr>\n",
       "    <tr>\n",
       "      <th>3</th>\n",
       "      <td>Female</td>\n",
       "      <td>36.0</td>\n",
       "      <td>0</td>\n",
       "      <td>0</td>\n",
       "      <td>current</td>\n",
       "      <td>23.45</td>\n",
       "      <td>5.0</td>\n",
       "      <td>155</td>\n",
       "      <td>0</td>\n",
       "    </tr>\n",
       "    <tr>\n",
       "      <th>4</th>\n",
       "      <td>Male</td>\n",
       "      <td>76.0</td>\n",
       "      <td>1</td>\n",
       "      <td>1</td>\n",
       "      <td>current</td>\n",
       "      <td>20.14</td>\n",
       "      <td>4.8</td>\n",
       "      <td>155</td>\n",
       "      <td>0</td>\n",
       "    </tr>\n",
       "  </tbody>\n",
       "</table>\n",
       "</div>"
      ],
      "text/plain": [
       "   gender   age  hypertension  heart_disease smoking_history    bmi  \\\n",
       "0  Female  80.0             0              1           never  25.19   \n",
       "1  Female  54.0             0              0         No Info  27.32   \n",
       "2    Male  28.0             0              0           never  27.32   \n",
       "3  Female  36.0             0              0         current  23.45   \n",
       "4    Male  76.0             1              1         current  20.14   \n",
       "\n",
       "   HbA1c_level  blood_glucose_level  diabetes  \n",
       "0          6.6                  140         0  \n",
       "1          6.6                   80         0  \n",
       "2          5.7                  158         0  \n",
       "3          5.0                  155         0  \n",
       "4          4.8                  155         0  "
      ]
     },
     "execution_count": 5,
     "metadata": {},
     "output_type": "execute_result"
    }
   ],
   "source": [
    "#displaying the first 5 rows\n",
    "data.head()"
   ]
  },
  {
   "cell_type": "code",
   "execution_count": 7,
   "metadata": {
    "execution": {
     "iopub.execute_input": "2024-02-04T08:54:44.358262Z",
     "iopub.status.busy": "2024-02-04T08:54:44.357604Z",
     "iopub.status.idle": "2024-02-04T08:54:44.375094Z",
     "shell.execute_reply": "2024-02-04T08:54:44.373738Z",
     "shell.execute_reply.started": "2024-02-04T08:54:44.358219Z"
    }
   },
   "outputs": [
    {
     "name": "stdout",
     "output_type": "stream",
     "text": [
      "<class 'pandas.core.frame.DataFrame'>\n",
      "RangeIndex: 5000 entries, 0 to 4999\n",
      "Data columns (total 9 columns):\n",
      " #   Column               Non-Null Count  Dtype  \n",
      "---  ------               --------------  -----  \n",
      " 0   gender               5000 non-null   object \n",
      " 1   age                  5000 non-null   float64\n",
      " 2   hypertension         5000 non-null   int64  \n",
      " 3   heart_disease        5000 non-null   int64  \n",
      " 4   smoking_history      5000 non-null   object \n",
      " 5   bmi                  5000 non-null   float64\n",
      " 6   HbA1c_level          5000 non-null   float64\n",
      " 7   blood_glucose_level  5000 non-null   int64  \n",
      " 8   diabetes             5000 non-null   int64  \n",
      "dtypes: float64(3), int64(4), object(2)\n",
      "memory usage: 351.7+ KB\n"
     ]
    }
   ],
   "source": [
    "#structure of the dataset\n",
    "data.info()"
   ]
  },
  {
   "cell_type": "code",
   "execution_count": 8,
   "metadata": {
    "execution": {
     "iopub.execute_input": "2024-02-04T08:54:54.955766Z",
     "iopub.status.busy": "2024-02-04T08:54:54.955366Z",
     "iopub.status.idle": "2024-02-04T08:54:54.993547Z",
     "shell.execute_reply": "2024-02-04T08:54:54.992412Z",
     "shell.execute_reply.started": "2024-02-04T08:54:54.955738Z"
    }
   },
   "outputs": [
    {
     "data": {
      "text/html": [
       "<div>\n",
       "<style scoped>\n",
       "    .dataframe tbody tr th:only-of-type {\n",
       "        vertical-align: middle;\n",
       "    }\n",
       "\n",
       "    .dataframe tbody tr th {\n",
       "        vertical-align: top;\n",
       "    }\n",
       "\n",
       "    .dataframe thead th {\n",
       "        text-align: right;\n",
       "    }\n",
       "</style>\n",
       "<table border=\"1\" class=\"dataframe\">\n",
       "  <thead>\n",
       "    <tr style=\"text-align: right;\">\n",
       "      <th></th>\n",
       "      <th>age</th>\n",
       "      <th>hypertension</th>\n",
       "      <th>heart_disease</th>\n",
       "      <th>bmi</th>\n",
       "      <th>HbA1c_level</th>\n",
       "      <th>blood_glucose_level</th>\n",
       "      <th>diabetes</th>\n",
       "    </tr>\n",
       "  </thead>\n",
       "  <tbody>\n",
       "    <tr>\n",
       "      <th>count</th>\n",
       "      <td>5000.000000</td>\n",
       "      <td>5000.000000</td>\n",
       "      <td>5000.000000</td>\n",
       "      <td>5000.000000</td>\n",
       "      <td>5000.00000</td>\n",
       "      <td>5000.000000</td>\n",
       "      <td>5000.000000</td>\n",
       "    </tr>\n",
       "    <tr>\n",
       "      <th>mean</th>\n",
       "      <td>42.075032</td>\n",
       "      <td>0.077800</td>\n",
       "      <td>0.037400</td>\n",
       "      <td>27.362108</td>\n",
       "      <td>5.54596</td>\n",
       "      <td>138.105800</td>\n",
       "      <td>0.087200</td>\n",
       "    </tr>\n",
       "    <tr>\n",
       "      <th>std</th>\n",
       "      <td>22.537833</td>\n",
       "      <td>0.267883</td>\n",
       "      <td>0.189759</td>\n",
       "      <td>6.754316</td>\n",
       "      <td>1.08358</td>\n",
       "      <td>40.843343</td>\n",
       "      <td>0.282156</td>\n",
       "    </tr>\n",
       "    <tr>\n",
       "      <th>min</th>\n",
       "      <td>0.080000</td>\n",
       "      <td>0.000000</td>\n",
       "      <td>0.000000</td>\n",
       "      <td>10.010000</td>\n",
       "      <td>3.50000</td>\n",
       "      <td>80.000000</td>\n",
       "      <td>0.000000</td>\n",
       "    </tr>\n",
       "    <tr>\n",
       "      <th>25%</th>\n",
       "      <td>24.000000</td>\n",
       "      <td>0.000000</td>\n",
       "      <td>0.000000</td>\n",
       "      <td>23.677500</td>\n",
       "      <td>4.80000</td>\n",
       "      <td>100.000000</td>\n",
       "      <td>0.000000</td>\n",
       "    </tr>\n",
       "    <tr>\n",
       "      <th>50%</th>\n",
       "      <td>43.000000</td>\n",
       "      <td>0.000000</td>\n",
       "      <td>0.000000</td>\n",
       "      <td>27.320000</td>\n",
       "      <td>5.80000</td>\n",
       "      <td>140.000000</td>\n",
       "      <td>0.000000</td>\n",
       "    </tr>\n",
       "    <tr>\n",
       "      <th>75%</th>\n",
       "      <td>60.000000</td>\n",
       "      <td>0.000000</td>\n",
       "      <td>0.000000</td>\n",
       "      <td>29.542500</td>\n",
       "      <td>6.20000</td>\n",
       "      <td>159.000000</td>\n",
       "      <td>0.000000</td>\n",
       "    </tr>\n",
       "    <tr>\n",
       "      <th>max</th>\n",
       "      <td>80.000000</td>\n",
       "      <td>1.000000</td>\n",
       "      <td>1.000000</td>\n",
       "      <td>88.720000</td>\n",
       "      <td>9.00000</td>\n",
       "      <td>300.000000</td>\n",
       "      <td>1.000000</td>\n",
       "    </tr>\n",
       "  </tbody>\n",
       "</table>\n",
       "</div>"
      ],
      "text/plain": [
       "               age  hypertension  heart_disease          bmi  HbA1c_level  \\\n",
       "count  5000.000000   5000.000000    5000.000000  5000.000000   5000.00000   \n",
       "mean     42.075032      0.077800       0.037400    27.362108      5.54596   \n",
       "std      22.537833      0.267883       0.189759     6.754316      1.08358   \n",
       "min       0.080000      0.000000       0.000000    10.010000      3.50000   \n",
       "25%      24.000000      0.000000       0.000000    23.677500      4.80000   \n",
       "50%      43.000000      0.000000       0.000000    27.320000      5.80000   \n",
       "75%      60.000000      0.000000       0.000000    29.542500      6.20000   \n",
       "max      80.000000      1.000000       1.000000    88.720000      9.00000   \n",
       "\n",
       "       blood_glucose_level     diabetes  \n",
       "count          5000.000000  5000.000000  \n",
       "mean            138.105800     0.087200  \n",
       "std              40.843343     0.282156  \n",
       "min              80.000000     0.000000  \n",
       "25%             100.000000     0.000000  \n",
       "50%             140.000000     0.000000  \n",
       "75%             159.000000     0.000000  \n",
       "max             300.000000     1.000000  "
      ]
     },
     "execution_count": 8,
     "metadata": {},
     "output_type": "execute_result"
    }
   ],
   "source": [
    "#statistical analysis for dataset\n",
    "data.describe()"
   ]
  },
  {
   "cell_type": "code",
   "execution_count": 9,
   "metadata": {
    "execution": {
     "iopub.execute_input": "2024-02-04T08:55:32.771613Z",
     "iopub.status.busy": "2024-02-04T08:55:32.771220Z",
     "iopub.status.idle": "2024-02-04T08:55:32.778335Z",
     "shell.execute_reply": "2024-02-04T08:55:32.777427Z",
     "shell.execute_reply.started": "2024-02-04T08:55:32.771584Z"
    }
   },
   "outputs": [
    {
     "name": "stdout",
     "output_type": "stream",
     "text": [
      "['Female' 'Male']\n",
      "['never' 'No Info' 'current' 'former' 'ever' 'not current']\n"
     ]
    }
   ],
   "source": [
    "print(data['gender'].unique())\n",
    "print(data['smoking_history'].unique())"
   ]
  },
  {
   "cell_type": "code",
   "execution_count": 10,
   "metadata": {
    "execution": {
     "iopub.execute_input": "2024-02-04T08:55:39.064364Z",
     "iopub.status.busy": "2024-02-04T08:55:39.063918Z",
     "iopub.status.idle": "2024-02-04T08:55:39.070492Z",
     "shell.execute_reply": "2024-02-04T08:55:39.069019Z",
     "shell.execute_reply.started": "2024-02-04T08:55:39.064329Z"
    }
   },
   "outputs": [],
   "source": [
    "dict1 = {\n",
    "    'Female': 0,\n",
    "    'Male': 1\n",
    "}\n",
    "\n",
    "dict2 = {\n",
    "    'never' : 0,\n",
    "    'No Info' : 1,\n",
    "    'current' : 2,\n",
    "    'former' : 3,\n",
    "    'ever' : 4,\n",
    "    'not current' : 5\n",
    "}"
   ]
  },
  {
   "cell_type": "code",
   "execution_count": 11,
   "metadata": {
    "execution": {
     "iopub.execute_input": "2024-02-04T08:56:03.811657Z",
     "iopub.status.busy": "2024-02-04T08:56:03.810210Z",
     "iopub.status.idle": "2024-02-04T08:56:03.826837Z",
     "shell.execute_reply": "2024-02-04T08:56:03.825515Z",
     "shell.execute_reply.started": "2024-02-04T08:56:03.811608Z"
    }
   },
   "outputs": [
    {
     "name": "stdout",
     "output_type": "stream",
     "text": [
      "[0 1]\n",
      "[0 1 2 3 4 5]\n"
     ]
    }
   ],
   "source": [
    "#changing categorical data to numerical data for training\n",
    "data['gender'] = data['gender'].map(dict1)\n",
    "data['smoking_history'] = data['smoking_history'].map(dict2)\n",
    "\n",
    "print(data['gender'].unique())\n",
    "print(data['smoking_history'].unique())"
   ]
  },
  {
   "cell_type": "code",
   "execution_count": 13,
   "metadata": {
    "execution": {
     "iopub.execute_input": "2024-02-04T08:56:21.349304Z",
     "iopub.status.busy": "2024-02-04T08:56:21.348877Z",
     "iopub.status.idle": "2024-02-04T08:56:21.366646Z",
     "shell.execute_reply": "2024-02-04T08:56:21.365293Z",
     "shell.execute_reply.started": "2024-02-04T08:56:21.349272Z"
    }
   },
   "outputs": [
    {
     "data": {
      "text/html": [
       "<div>\n",
       "<style scoped>\n",
       "    .dataframe tbody tr th:only-of-type {\n",
       "        vertical-align: middle;\n",
       "    }\n",
       "\n",
       "    .dataframe tbody tr th {\n",
       "        vertical-align: top;\n",
       "    }\n",
       "\n",
       "    .dataframe thead th {\n",
       "        text-align: right;\n",
       "    }\n",
       "</style>\n",
       "<table border=\"1\" class=\"dataframe\">\n",
       "  <thead>\n",
       "    <tr style=\"text-align: right;\">\n",
       "      <th></th>\n",
       "      <th>gender</th>\n",
       "      <th>age</th>\n",
       "      <th>hypertension</th>\n",
       "      <th>heart_disease</th>\n",
       "      <th>smoking_history</th>\n",
       "      <th>bmi</th>\n",
       "      <th>HbA1c_level</th>\n",
       "      <th>blood_glucose_level</th>\n",
       "      <th>diabetes</th>\n",
       "    </tr>\n",
       "  </thead>\n",
       "  <tbody>\n",
       "    <tr>\n",
       "      <th>0</th>\n",
       "      <td>0</td>\n",
       "      <td>80.0</td>\n",
       "      <td>0</td>\n",
       "      <td>1</td>\n",
       "      <td>0</td>\n",
       "      <td>25.19</td>\n",
       "      <td>6.6</td>\n",
       "      <td>140</td>\n",
       "      <td>0</td>\n",
       "    </tr>\n",
       "    <tr>\n",
       "      <th>1</th>\n",
       "      <td>0</td>\n",
       "      <td>54.0</td>\n",
       "      <td>0</td>\n",
       "      <td>0</td>\n",
       "      <td>1</td>\n",
       "      <td>27.32</td>\n",
       "      <td>6.6</td>\n",
       "      <td>80</td>\n",
       "      <td>0</td>\n",
       "    </tr>\n",
       "    <tr>\n",
       "      <th>2</th>\n",
       "      <td>1</td>\n",
       "      <td>28.0</td>\n",
       "      <td>0</td>\n",
       "      <td>0</td>\n",
       "      <td>0</td>\n",
       "      <td>27.32</td>\n",
       "      <td>5.7</td>\n",
       "      <td>158</td>\n",
       "      <td>0</td>\n",
       "    </tr>\n",
       "    <tr>\n",
       "      <th>3</th>\n",
       "      <td>0</td>\n",
       "      <td>36.0</td>\n",
       "      <td>0</td>\n",
       "      <td>0</td>\n",
       "      <td>2</td>\n",
       "      <td>23.45</td>\n",
       "      <td>5.0</td>\n",
       "      <td>155</td>\n",
       "      <td>0</td>\n",
       "    </tr>\n",
       "    <tr>\n",
       "      <th>4</th>\n",
       "      <td>1</td>\n",
       "      <td>76.0</td>\n",
       "      <td>1</td>\n",
       "      <td>1</td>\n",
       "      <td>2</td>\n",
       "      <td>20.14</td>\n",
       "      <td>4.8</td>\n",
       "      <td>155</td>\n",
       "      <td>0</td>\n",
       "    </tr>\n",
       "  </tbody>\n",
       "</table>\n",
       "</div>"
      ],
      "text/plain": [
       "   gender   age  hypertension  heart_disease  smoking_history    bmi  \\\n",
       "0       0  80.0             0              1                0  25.19   \n",
       "1       0  54.0             0              0                1  27.32   \n",
       "2       1  28.0             0              0                0  27.32   \n",
       "3       0  36.0             0              0                2  23.45   \n",
       "4       1  76.0             1              1                2  20.14   \n",
       "\n",
       "   HbA1c_level  blood_glucose_level  diabetes  \n",
       "0          6.6                  140         0  \n",
       "1          6.6                   80         0  \n",
       "2          5.7                  158         0  \n",
       "3          5.0                  155         0  \n",
       "4          4.8                  155         0  "
      ]
     },
     "execution_count": 13,
     "metadata": {},
     "output_type": "execute_result"
    }
   ],
   "source": [
    "#last version of the dataset\n",
    "data.head()"
   ]
  },
  {
   "cell_type": "markdown",
   "metadata": {},
   "source": [
    "# Training Model"
   ]
  },
  {
   "cell_type": "code",
   "execution_count": 14,
   "metadata": {
    "execution": {
     "iopub.execute_input": "2024-02-04T08:57:10.295898Z",
     "iopub.status.busy": "2024-02-04T08:57:10.295494Z",
     "iopub.status.idle": "2024-02-04T08:57:10.307276Z",
     "shell.execute_reply": "2024-02-04T08:57:10.306001Z",
     "shell.execute_reply.started": "2024-02-04T08:57:10.295867Z"
    }
   },
   "outputs": [],
   "source": [
    "#choosing feature and target values\n",
    "features = ['gender', 'age', 'hypertension', 'heart_disease', 'smoking_history', 'bmi', 'HbA1c_level', 'blood_glucose_level']\n",
    "x_val = np.array(data[features])\n",
    "y_val = np.array(data['diabetes'])"
   ]
  },
  {
   "cell_type": "code",
   "execution_count": 16,
   "metadata": {
    "execution": {
     "iopub.execute_input": "2024-02-04T08:57:59.599073Z",
     "iopub.status.busy": "2024-02-04T08:57:59.598203Z",
     "iopub.status.idle": "2024-02-04T08:57:59.608699Z",
     "shell.execute_reply": "2024-02-04T08:57:59.607492Z",
     "shell.execute_reply.started": "2024-02-04T08:57:59.599037Z"
    }
   },
   "outputs": [],
   "source": [
    "#spliting as training and testing in order to check the model in the future\n",
    "x_train, x_test, y_train, y_test = train_test_split(x_val, y_val, test_size = 0.3)"
   ]
  },
  {
   "cell_type": "code",
   "execution_count": 17,
   "metadata": {
    "execution": {
     "iopub.execute_input": "2024-02-04T08:58:48.311052Z",
     "iopub.status.busy": "2024-02-04T08:58:48.310674Z",
     "iopub.status.idle": "2024-02-04T08:58:48.681457Z",
     "shell.execute_reply": "2024-02-04T08:58:48.680034Z",
     "shell.execute_reply.started": "2024-02-04T08:58:48.311021Z"
    }
   },
   "outputs": [
    {
     "name": "stdout",
     "output_type": "stream",
     "text": [
      "Accuracy:  0.963\n",
      "Precision:  0.9306930693069307\n",
      "Confusion matrix: \n",
      " [[1351    7]\n",
      " [  48   94]]\n",
      "Classification report: \n",
      "               precision    recall  f1-score   support\n",
      "\n",
      "           0       0.97      0.99      0.98      1358\n",
      "           1       0.93      0.66      0.77       142\n",
      "\n",
      "    accuracy                           0.96      1500\n",
      "   macro avg       0.95      0.83      0.88      1500\n",
      "weighted avg       0.96      0.96      0.96      1500\n",
      "\n"
     ]
    }
   ],
   "source": [
    "#training a logistic regression model\n",
    "model_lr = LogisticRegression(max_iter = 1000)\n",
    "model_lr.fit(x_train, y_train)\n",
    "\n",
    "#predicting the model\n",
    "y_pre = model_lr.predict(x_test)\n",
    "\n",
    "#printing some scores for evaluation part\n",
    "print('Accuracy: ', np.round(accuracy_score(y_test, y_pre), 3))\n",
    "print('Precision: ', precision_score(y_test, y_pre))\n",
    "print('Confusion matrix: \\n', confusion_matrix(y_test, y_pre))\n",
    "print('Classification report: \\n', classification_report(y_test, y_pre))"
   ]
  },
  {
   "cell_type": "code",
   "execution_count": 18,
   "metadata": {
    "execution": {
     "iopub.execute_input": "2024-02-04T09:01:00.932332Z",
     "iopub.status.busy": "2024-02-04T09:01:00.931750Z",
     "iopub.status.idle": "2024-02-04T09:01:01.069798Z",
     "shell.execute_reply": "2024-02-04T09:01:01.067469Z",
     "shell.execute_reply.started": "2024-02-04T09:01:00.932287Z"
    }
   },
   "outputs": [
    {
     "name": "stdout",
     "output_type": "stream",
     "text": [
      "Accuracy:  0.961\n",
      "Precision:  0.9662921348314607\n",
      "Confusion matrix: \n",
      " [[1355    3]\n",
      " [  56   86]]\n",
      "Classification report: \n",
      "               precision    recall  f1-score   support\n",
      "\n",
      "           0       0.96      1.00      0.98      1358\n",
      "           1       0.97      0.61      0.74       142\n",
      "\n",
      "    accuracy                           0.96      1500\n",
      "   macro avg       0.96      0.80      0.86      1500\n",
      "weighted avg       0.96      0.96      0.96      1500\n",
      "\n"
     ]
    }
   ],
   "source": [
    "#applying normalization to a logistic regression model to get better results\n",
    "scaler = MinMaxScaler()\n",
    "x_train_scaled = scaler.fit_transform(x_train)\n",
    "x_test_scaled = scaler.transform(x_test)\n",
    "\n",
    "model_scaled = LogisticRegression(max_iter = 1000)\n",
    "model_scaled.fit(x_train_scaled, y_train)\n",
    "\n",
    "y_pre2 = model_scaled.predict(x_test_scaled)\n",
    "\n",
    "#printing the scores for  evaluation\n",
    "print('Accuracy: ', np.round(accuracy_score(y_test, y_pre2), 3))\n",
    "print('Precision: ', precision_score(y_test, y_pre2))\n",
    "print('Confusion matrix: \\n', confusion_matrix(y_test, y_pre2))\n",
    "print('Classification report: \\n', classification_report(y_test, y_pre2))"
   ]
  },
  {
   "cell_type": "markdown",
   "metadata": {},
   "source": [
    "# Checking other models"
   ]
  },
  {
   "cell_type": "code",
   "execution_count": 19,
   "metadata": {
    "execution": {
     "iopub.execute_input": "2024-02-04T09:02:53.483829Z",
     "iopub.status.busy": "2024-02-04T09:02:53.483412Z",
     "iopub.status.idle": "2024-02-04T09:02:53.490809Z",
     "shell.execute_reply": "2024-02-04T09:02:53.489125Z",
     "shell.execute_reply.started": "2024-02-04T09:02:53.483798Z"
    }
   },
   "outputs": [],
   "source": [
    "#creating Decision Tree model\n",
    "model_tree = DecisionTreeClassifier()\n",
    "\n",
    "#creating Random Forest model\n",
    "model_forest = RandomForestClassifier()\n",
    "\n",
    "#creating Support Vector Machine model\n",
    "model_SVC = SVC()"
   ]
  },
  {
   "cell_type": "code",
   "execution_count": 20,
   "metadata": {
    "execution": {
     "iopub.execute_input": "2024-02-04T09:03:15.889030Z",
     "iopub.status.busy": "2024-02-04T09:03:15.888591Z",
     "iopub.status.idle": "2024-02-04T09:03:16.464342Z",
     "shell.execute_reply": "2024-02-04T09:03:16.462872Z",
     "shell.execute_reply.started": "2024-02-04T09:03:15.888989Z"
    }
   },
   "outputs": [
    {
     "data": {
      "text/html": [
       "<style>#sk-container-id-1 {color: black;background-color: white;}#sk-container-id-1 pre{padding: 0;}#sk-container-id-1 div.sk-toggleable {background-color: white;}#sk-container-id-1 label.sk-toggleable__label {cursor: pointer;display: block;width: 100%;margin-bottom: 0;padding: 0.3em;box-sizing: border-box;text-align: center;}#sk-container-id-1 label.sk-toggleable__label-arrow:before {content: \"▸\";float: left;margin-right: 0.25em;color: #696969;}#sk-container-id-1 label.sk-toggleable__label-arrow:hover:before {color: black;}#sk-container-id-1 div.sk-estimator:hover label.sk-toggleable__label-arrow:before {color: black;}#sk-container-id-1 div.sk-toggleable__content {max-height: 0;max-width: 0;overflow: hidden;text-align: left;background-color: #f0f8ff;}#sk-container-id-1 div.sk-toggleable__content pre {margin: 0.2em;color: black;border-radius: 0.25em;background-color: #f0f8ff;}#sk-container-id-1 input.sk-toggleable__control:checked~div.sk-toggleable__content {max-height: 200px;max-width: 100%;overflow: auto;}#sk-container-id-1 input.sk-toggleable__control:checked~label.sk-toggleable__label-arrow:before {content: \"▾\";}#sk-container-id-1 div.sk-estimator input.sk-toggleable__control:checked~label.sk-toggleable__label {background-color: #d4ebff;}#sk-container-id-1 div.sk-label input.sk-toggleable__control:checked~label.sk-toggleable__label {background-color: #d4ebff;}#sk-container-id-1 input.sk-hidden--visually {border: 0;clip: rect(1px 1px 1px 1px);clip: rect(1px, 1px, 1px, 1px);height: 1px;margin: -1px;overflow: hidden;padding: 0;position: absolute;width: 1px;}#sk-container-id-1 div.sk-estimator {font-family: monospace;background-color: #f0f8ff;border: 1px dotted black;border-radius: 0.25em;box-sizing: border-box;margin-bottom: 0.5em;}#sk-container-id-1 div.sk-estimator:hover {background-color: #d4ebff;}#sk-container-id-1 div.sk-parallel-item::after {content: \"\";width: 100%;border-bottom: 1px solid gray;flex-grow: 1;}#sk-container-id-1 div.sk-label:hover label.sk-toggleable__label {background-color: #d4ebff;}#sk-container-id-1 div.sk-serial::before {content: \"\";position: absolute;border-left: 1px solid gray;box-sizing: border-box;top: 0;bottom: 0;left: 50%;z-index: 0;}#sk-container-id-1 div.sk-serial {display: flex;flex-direction: column;align-items: center;background-color: white;padding-right: 0.2em;padding-left: 0.2em;position: relative;}#sk-container-id-1 div.sk-item {position: relative;z-index: 1;}#sk-container-id-1 div.sk-parallel {display: flex;align-items: stretch;justify-content: center;background-color: white;position: relative;}#sk-container-id-1 div.sk-item::before, #sk-container-id-1 div.sk-parallel-item::before {content: \"\";position: absolute;border-left: 1px solid gray;box-sizing: border-box;top: 0;bottom: 0;left: 50%;z-index: -1;}#sk-container-id-1 div.sk-parallel-item {display: flex;flex-direction: column;z-index: 1;position: relative;background-color: white;}#sk-container-id-1 div.sk-parallel-item:first-child::after {align-self: flex-end;width: 50%;}#sk-container-id-1 div.sk-parallel-item:last-child::after {align-self: flex-start;width: 50%;}#sk-container-id-1 div.sk-parallel-item:only-child::after {width: 0;}#sk-container-id-1 div.sk-dashed-wrapped {border: 1px dashed gray;margin: 0 0.4em 0.5em 0.4em;box-sizing: border-box;padding-bottom: 0.4em;background-color: white;}#sk-container-id-1 div.sk-label label {font-family: monospace;font-weight: bold;display: inline-block;line-height: 1.2em;}#sk-container-id-1 div.sk-label-container {text-align: center;}#sk-container-id-1 div.sk-container {/* jupyter's `normalize.less` sets `[hidden] { display: none; }` but bootstrap.min.css set `[hidden] { display: none !important; }` so we also need the `!important` here to be able to override the default hidden behavior on the sphinx rendered scikit-learn.org. See: https://github.com/scikit-learn/scikit-learn/issues/21755 */display: inline-block !important;position: relative;}#sk-container-id-1 div.sk-text-repr-fallback {display: none;}</style><div id=\"sk-container-id-1\" class=\"sk-top-container\"><div class=\"sk-text-repr-fallback\"><pre>VotingClassifier(estimators=[(&#x27;dt&#x27;, DecisionTreeClassifier()),\n",
       "                             (&#x27;rf&#x27;, RandomForestClassifier()), (&#x27;svm&#x27;, SVC())])</pre><b>In a Jupyter environment, please rerun this cell to show the HTML representation or trust the notebook. <br />On GitHub, the HTML representation is unable to render, please try loading this page with nbviewer.org.</b></div><div class=\"sk-container\" hidden><div class=\"sk-item sk-dashed-wrapped\"><div class=\"sk-label-container\"><div class=\"sk-label sk-toggleable\"><input class=\"sk-toggleable__control sk-hidden--visually\" id=\"sk-estimator-id-1\" type=\"checkbox\" ><label for=\"sk-estimator-id-1\" class=\"sk-toggleable__label sk-toggleable__label-arrow\">VotingClassifier</label><div class=\"sk-toggleable__content\"><pre>VotingClassifier(estimators=[(&#x27;dt&#x27;, DecisionTreeClassifier()),\n",
       "                             (&#x27;rf&#x27;, RandomForestClassifier()), (&#x27;svm&#x27;, SVC())])</pre></div></div></div><div class=\"sk-parallel\"><div class=\"sk-parallel-item\"><div class=\"sk-item\"><div class=\"sk-label-container\"><div class=\"sk-label sk-toggleable\"><label>dt</label></div></div><div class=\"sk-serial\"><div class=\"sk-item\"><div class=\"sk-estimator sk-toggleable\"><input class=\"sk-toggleable__control sk-hidden--visually\" id=\"sk-estimator-id-2\" type=\"checkbox\" ><label for=\"sk-estimator-id-2\" class=\"sk-toggleable__label sk-toggleable__label-arrow\">DecisionTreeClassifier</label><div class=\"sk-toggleable__content\"><pre>DecisionTreeClassifier()</pre></div></div></div></div></div></div><div class=\"sk-parallel-item\"><div class=\"sk-item\"><div class=\"sk-label-container\"><div class=\"sk-label sk-toggleable\"><label>rf</label></div></div><div class=\"sk-serial\"><div class=\"sk-item\"><div class=\"sk-estimator sk-toggleable\"><input class=\"sk-toggleable__control sk-hidden--visually\" id=\"sk-estimator-id-3\" type=\"checkbox\" ><label for=\"sk-estimator-id-3\" class=\"sk-toggleable__label sk-toggleable__label-arrow\">RandomForestClassifier</label><div class=\"sk-toggleable__content\"><pre>RandomForestClassifier()</pre></div></div></div></div></div></div><div class=\"sk-parallel-item\"><div class=\"sk-item\"><div class=\"sk-label-container\"><div class=\"sk-label sk-toggleable\"><label>svm</label></div></div><div class=\"sk-serial\"><div class=\"sk-item\"><div class=\"sk-estimator sk-toggleable\"><input class=\"sk-toggleable__control sk-hidden--visually\" id=\"sk-estimator-id-4\" type=\"checkbox\" ><label for=\"sk-estimator-id-4\" class=\"sk-toggleable__label sk-toggleable__label-arrow\">SVC</label><div class=\"sk-toggleable__content\"><pre>SVC()</pre></div></div></div></div></div></div></div></div></div></div>"
      ],
      "text/plain": [
       "VotingClassifier(estimators=[('dt', DecisionTreeClassifier()),\n",
       "                             ('rf', RandomForestClassifier()), ('svm', SVC())])"
      ]
     },
     "execution_count": 20,
     "metadata": {},
     "output_type": "execute_result"
    }
   ],
   "source": [
    "#using votingclassifier to get better results from 3 models\n",
    "vote = VotingClassifier(\n",
    "    estimators = [('dt', model_tree), ('rf', model_forest), ('svm', model_SVC)],\n",
    "    voting = 'hard'\n",
    ")\n",
    "\n",
    "vote.fit(x_train, y_train)"
   ]
  },
  {
   "cell_type": "code",
   "execution_count": 22,
   "metadata": {
    "execution": {
     "iopub.execute_input": "2024-02-04T09:04:26.833401Z",
     "iopub.status.busy": "2024-02-04T09:04:26.832994Z",
     "iopub.status.idle": "2024-02-04T09:04:28.151633Z",
     "shell.execute_reply": "2024-02-04T09:04:28.150368Z",
     "shell.execute_reply.started": "2024-02-04T09:04:26.833368Z"
    }
   },
   "outputs": [
    {
     "name": "stdout",
     "output_type": "stream",
     "text": [
      "DecisionTreeClassifier\n",
      "Accuracy:  0.945\n",
      "Precision:  0.717391304347826\n",
      "Confusion matrix: \n",
      " [[1319   39]\n",
      " [  43   99]]\n",
      "Classification report: \n",
      "               precision    recall  f1-score   support\n",
      "\n",
      "           0       0.97      0.97      0.97      1358\n",
      "           1       0.72      0.70      0.71       142\n",
      "\n",
      "    accuracy                           0.95      1500\n",
      "   macro avg       0.84      0.83      0.84      1500\n",
      "weighted avg       0.94      0.95      0.94      1500\n",
      "\n",
      "\n",
      "RandomForestClassifier\n",
      "Accuracy:  0.967\n",
      "Precision:  0.9893617021276596\n",
      "Confusion matrix: \n",
      " [[1357    1]\n",
      " [  49   93]]\n",
      "Classification report: \n",
      "               precision    recall  f1-score   support\n",
      "\n",
      "           0       0.97      1.00      0.98      1358\n",
      "           1       0.99      0.65      0.79       142\n",
      "\n",
      "    accuracy                           0.97      1500\n",
      "   macro avg       0.98      0.83      0.89      1500\n",
      "weighted avg       0.97      0.97      0.96      1500\n",
      "\n",
      "\n",
      "SVC\n",
      "Accuracy:  0.934\n",
      "Precision:  1.0\n",
      "Confusion matrix: \n",
      " [[1358    0]\n",
      " [  99   43]]\n",
      "Classification report: \n",
      "               precision    recall  f1-score   support\n",
      "\n",
      "           0       0.93      1.00      0.96      1358\n",
      "           1       1.00      0.30      0.46       142\n",
      "\n",
      "    accuracy                           0.93      1500\n",
      "   macro avg       0.97      0.65      0.71      1500\n",
      "weighted avg       0.94      0.93      0.92      1500\n",
      "\n",
      "\n",
      "VotingClassifier\n",
      "Accuracy:  0.968\n",
      "Precision:  1.0\n",
      "Confusion matrix: \n",
      " [[1358    0]\n",
      " [  48   94]]\n",
      "Classification report: \n",
      "               precision    recall  f1-score   support\n",
      "\n",
      "           0       0.97      1.00      0.98      1358\n",
      "           1       1.00      0.66      0.80       142\n",
      "\n",
      "    accuracy                           0.97      1500\n",
      "   macro avg       0.98      0.83      0.89      1500\n",
      "weighted avg       0.97      0.97      0.97      1500\n",
      "\n",
      "\n"
     ]
    }
   ],
   "source": [
    "#displaying evaluated results for each model\n",
    "for classifier in (model_tree, model_forest, model_SVC, vote):\n",
    "    classifier.fit(x_train, y_train)\n",
    "    \n",
    "    y_pre_models = classifier.predict(x_test)\n",
    "    print(classifier.__class__.__name__)\n",
    "    \n",
    "    print('Accuracy: ', np.round(accuracy_score(y_test, y_pre_models), 3))\n",
    "    print('Precision: ', precision_score(y_test, y_pre_models))\n",
    "    print('Confusion matrix: \\n', confusion_matrix(y_test, y_pre_models))\n",
    "    print('Classification report: \\n', classification_report(y_test, y_pre_models))\n",
    "    print()"
   ]
  },
  {
   "cell_type": "markdown",
   "metadata": {},
   "source": [
    "# Visualization"
   ]
  },
  {
   "cell_type": "code",
   "execution_count": 23,
   "metadata": {
    "execution": {
     "iopub.execute_input": "2024-02-04T09:05:53.590844Z",
     "iopub.status.busy": "2024-02-04T09:05:53.590456Z",
     "iopub.status.idle": "2024-02-04T09:05:54.510429Z",
     "shell.execute_reply": "2024-02-04T09:05:54.509171Z",
     "shell.execute_reply.started": "2024-02-04T09:05:53.590815Z"
    }
   },
   "outputs": [
    {
     "data": {
      "text/plain": [
       "<Axes: >"
      ]
     },
     "execution_count": 23,
     "metadata": {},
     "output_type": "execute_result"
    },
    {
     "data": {
      "image/png": "[encoded data removed]",
      "text/plain": [
       "<Figure size 640x480 with 2 Axes>"
      ]
     },
     "metadata": {},
     "output_type": "display_data"
    }
   ],
   "source": [
    "#choosing the best model as votingclassifier since it has better results \n",
    "vote.fit(x_train, y_train)\n",
    "y_pre_vote = vote.predict(x_test)\n",
    "\n",
    "#showing confusion matrix in heatmap\n",
    "confusion_m = confusion_matrix(y_test, y_pre_vote)\n",
    "sns.heatmap(data = confusion_m, annot = True)"
   ]
  },
  {
   "cell_type": "code",
   "execution_count": 39,
   "metadata": {
    "execution": {
     "iopub.execute_input": "2024-02-04T09:34:14.759813Z",
     "iopub.status.busy": "2024-02-04T09:34:14.759402Z",
     "iopub.status.idle": "2024-02-04T09:34:15.012675Z",
     "shell.execute_reply": "2024-02-04T09:34:15.011291Z",
     "shell.execute_reply.started": "2024-02-04T09:34:14.759782Z"
    }
   },
   "outputs": [
    {
     "data": {
      "image/png": "[encoded data removed]",
      "text/plain": [
       "<Figure size 800x500 with 1 Axes>"
      ]
     },
     "metadata": {},
     "output_type": "display_data"
    }
   ],
   "source": [
    "#choosing only diabetes(1) for their ages\n",
    "diabetes_age = np.array(data[data['diabetes'] == 1]['age'])\n",
    "\n",
    "#plotting the numbers of diabetes people in histogram\n",
    "plt.figure(figsize = (8,5))\n",
    "plt.hist(diabetes_age)\n",
    "plt.grid()\n",
    "plt.xlabel('Age of People')\n",
    "plt.ylabel('Numbers of potential diabetes')\n",
    "plt.title('Diabetes For Age Range', loc = 'center')\n",
    "plt.show()"
   ]
  },
  {
   "cell_type": "code",
   "execution_count": 63,
   "metadata": {
    "execution": {
     "iopub.execute_input": "2024-02-04T09:53:13.063237Z",
     "iopub.status.busy": "2024-02-04T09:53:13.062707Z",
     "iopub.status.idle": "2024-02-04T09:53:13.178262Z",
     "shell.execute_reply": "2024-02-04T09:53:13.177119Z",
     "shell.execute_reply.started": "2024-02-04T09:53:13.063087Z"
    }
   },
   "outputs": [
    {
     "data": {
      "image/png": "[encoded data removed]",
      "text/plain": [
       "<Figure size 1000x500 with 1 Axes>"
      ]
     },
     "metadata": {},
     "output_type": "display_data"
    }
   ],
   "source": [
    "#taken diabetes potential for each gender\n",
    "data_0 = data[data['gender'] == 0]\n",
    "data_1 = data[data['gender'] == 1]\n",
    "\n",
    "count_0 = len(data_0[data_0['diabetes'] == 1]['gender'])\n",
    "count_1 = len(data_1[data_1['diabetes'] == 1]['gender'])\n",
    "\n",
    "gender = np.array([count_0, count_1])\n",
    "\n",
    "#plotting it in pie chart to identify their percentage easily\n",
    "mylabels = ['Female', 'Male']\n",
    "myexplode = [0.1 , 0.1]\n",
    "plt.figure(figsize = (10,5))\n",
    "plt.pie(gender, labels = mylabels, explode = myexplode, autopct='%1.1f%%', startangle=90, counterclock=False)\n",
    "plt.title('The percentage of people for each gender')\n",
    "plt.show()"
   ]
  }
 ],
 "metadata": {
  "kaggle": {
   "accelerator": "none",
   "dataSources": [
    {
     "datasetId": 3102947,
     "sourceId": 5344155,
     "sourceType": "datasetVersion"
    }
   ],
   "dockerImageVersionId": 30646,
   "isGpuEnabled": false,
   "isInternetEnabled": true,
   "language": "python",
   "sourceType": "notebook"
  },
  "kernelspec": {
   "display_name": "Python 3 (ipykernel)",
   "language": "python",
   "name": "python3"
  },
  "language_info": {
   "codemirror_mode": {
    "name": "ipython",
    "version": 3
   },
   "file_extension": ".py",
   "mimetype": "text/x-python",
   "name": "python",
   "nbconvert_exporter": "python",
   "pygments_lexer": "ipython3",
   "version": "3.12.1"
  }
 },
 "nbformat": 4,
 "nbformat_minor": 4
}
